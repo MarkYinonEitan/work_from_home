{
 "cells": [
  {
   "cell_type": "code",
   "execution_count": 1,
   "metadata": {},
   "outputs": [],
   "source": [
    "\n",
    "import os\n",
    "import sys\n",
    "import importlib\n",
    "import numpy as np\n",
    "import shutil\n",
    "import tensorflow as tf\n",
    "from timeit import default_timer as timer\n",
    "if '__file__' in locals():\n",
    "    dir_path = os.path.dirname(os.path.realpath(__file__))\n",
    "else:\n",
    "    dir_path = os.getcwd()\n",
    "python_path = dir_path + '/../python/'\n",
    "sys.path.append(python_path)\n",
    "\n",
    "\n",
    "\n",
    "import dataset_loader\n",
    "importlib.reload(dataset_loader)\n",
    "from dataset_loader import EM_DATA_REAL_SYTH, EM_DATA,EM_DATA_DISC_RANDOM\n",
    "from dataset_loader import BATCH_SIZE, NBOX_IN,NBOX_OUT,N_CHANNELS\n",
    "from dataset_loader import getbox\n",
    "import net_3d_1\n",
    "import utils\n",
    "from utils import get_available_gpus"
   ]
  },
  {
   "cell_type": "code",
   "execution_count": 2,
   "metadata": {},
   "outputs": [
    {
     "data": {
      "text/plain": [
       "'/Users/markroza/Documents/GitHub/work_from_home/NNproject/code/jupyter/../python/'"
      ]
     },
     "execution_count": 2,
     "metadata": {},
     "output_type": "execute_result"
    }
   ],
   "source": [
    "python_path"
   ]
  },
  {
   "cell_type": "code",
   "execution_count": 3,
   "metadata": {},
   "outputs": [
    {
     "name": "stdout",
     "output_type": "stream",
     "text": [
      "6nt8 Loaded\n",
      "5fik Loaded\n",
      "/Users/markroza/Documents/work_from_home/NNcourse_project/data//res6/synth_exp//F_5flc_output.npy\n",
      "5flc FAILED, Error : \n",
      "4uer Loaded\n",
      "5vhh Loaded\n",
      "4uif Loaded\n",
      "4uer Loaded\n",
      "6bf7 Loaded\n",
      "WARNING:tensorflow:From /Users/markroza/Documents/work_from_home/NNcourse_project/v_env_p37/lib/python3.7/site-packages/tensorflow/python/data/ops/dataset_ops.py:429: py_func (from tensorflow.python.ops.script_ops) is deprecated and will be removed in a future version.\n",
      "Instructions for updating:\n",
      "tf.py_func is deprecated in TF V2. Instead, use\n",
      "    tf.py_function, which takes a python function which manipulates tf eager\n",
      "    tensors instead of numpy arrays. It's easy to convert a tf eager tensor to\n",
      "    an ndarray (just call tensor.numpy()) but having access to eager tensors\n",
      "    means `tf.py_function`s can use accelerators such as GPUs as well as\n",
      "    being differentiable using a gradient tape.\n",
      "    \n",
      "\n",
      "WARNING: The TensorFlow contrib module will not be included in TensorFlow 2.0.\n",
      "For more information, please see:\n",
      "  * https://github.com/tensorflow/community/blob/master/rfcs/20180907-contrib-sunset.md\n",
      "  * https://github.com/tensorflow/addons\n",
      "If you depend on functionality not listed there, please file an issue.\n",
      "\n",
      "WARNING:tensorflow:From /Users/markroza/Documents/GitHub/work_from_home/NNproject/code/jupyter/../python/dataset_loader.py:176: batch_and_drop_remainder (from tensorflow.contrib.data.python.ops.batching) is deprecated and will be removed in a future version.\n",
      "Instructions for updating:\n",
      "Use `tf.data.Dataset.batch(..., drop_remainder=True)`.\n"
     ]
    }
   ],
   "source": [
    "#define folders\n",
    "base_data_folder = \"/Users/markroza/Documents/work_from_home/NNcourse_project/data/\"\n",
    "data_fld = base_data_folder + \"/res6/synth_exp/\"\n",
    "out_fld = base_data_folder + \"/results/disc_exp/\"\n",
    "\n",
    "\n",
    "model_path = out_fld+'/network_test/'\n",
    "graph_folder = out_fld+'/graphs/'\n",
    "test_res_folder = out_fld + '/tests/'\n",
    "\n",
    "if os.path.isdir(out_fld):\n",
    "    shutil.rmtree(out_fld, ignore_errors=True)\n",
    "\n",
    "os.mkdir(out_fld)\n",
    "os.mkdir(model_path)\n",
    "os.mkdir(graph_folder)\n",
    "os.mkdir(test_res_folder)\n",
    "\n",
    "\n",
    "\n",
    "syn_data_pairs = dataset_loader.read_list_file(data_fld+'list_synth.txt')\n",
    "syn_pdbs = [x[0] for x in  syn_data_pairs]\n",
    "real_data_pairs = dataset_loader.read_list_file(data_fld+'list_real.txt')\n",
    "real_pdbs = [x[0] for x in  real_data_pairs]\n",
    "\n",
    "all_data = EM_DATA_REAL_SYTH(data_fld,real_pdbs = real_pdbs[:4],synth_pdbs =syn_pdbs[:4], is_random = False)\n"
   ]
  },
  {
   "cell_type": "code",
   "execution_count": 7,
   "metadata": {
    "scrolled": true
   },
   "outputs": [
    {
     "name": "stdout",
     "output_type": "stream",
     "text": [
      "False\n"
     ]
    },
    {
     "data": {
      "image/png": "[encoded data removed]",
      "text/plain": [
       "<Figure size 1296x216 with 5 Axes>"
      ]
     },
     "metadata": {},
     "output_type": "display_data"
    }
   ],
   "source": [
    "import matplotlib.pyplot as plt\n",
    "import matplotlib\n",
    "%matplotlib inline\n",
    "\n",
    "\n",
    "fig, ax = plt.subplots(1, 5, figsize=[18, 3])\n",
    "n = 0\n",
    "slice = 0\n",
    "p = all_data.train_points[1655900]\n",
    "map_patch = getbox(p.out,p.ijk[0],p.ijk[1],p.ijk[2],NBOX_OUT)\n",
    "std = np.std(map_patch)\n",
    "avg = np.mean(map_patch)\n",
    "map_patch = (map_patch-avg)/std\n",
    "\n",
    "print(p.is_real)\n",
    "\n",
    "for _ in range(5):\n",
    "    ax[n].imshow(map_patch[:, :, slice,0]+10, 'gray')\n",
    "    ax[n].set_xticks([])\n",
    "    ax[n].set_yticks([])\n",
    "    ax[n].set_title('Slice number: {}'.format(slice), color='r')\n",
    "    n += 1\n",
    "    slice += 1\n",
    "   \n",
    "fig.subplots_adjust(wspace=0, hspace=0)\n"
   ]
  },
  {
   "cell_type": "code",
   "execution_count": null,
   "metadata": {},
   "outputs": [],
   "source": []
  },
  {
   "cell_type": "code",
   "execution_count": null,
   "metadata": {},
   "outputs": [],
   "source": []
  },
  {
   "cell_type": "code",
   "execution_count": null,
   "metadata": {},
   "outputs": [],
   "source": []
  },
  {
   "cell_type": "code",
   "execution_count": 5,
   "metadata": {},
   "outputs": [
    {
     "data": {
      "image/png": "[encoded data removed]",
      "text/plain": [
       "<Figure size 432x288 with 1 Axes>"
      ]
     },
     "metadata": {
      "needs_background": "light"
     },
     "output_type": "display_data"
    }
   ],
   "source": [
    "n, bins, patches = plt.hist(x=np.reshape(map_patch,-1),bins=10,range=[-2.0,2])"
   ]
  },
  {
   "cell_type": "code",
   "execution_count": 6,
   "metadata": {},
   "outputs": [
    {
     "name": "stdout",
     "output_type": "stream",
     "text": [
      "1.0000001 1.04904174e-07\n"
     ]
    }
   ],
   "source": [
    "print(np.std(map_patch),np.mean(map_patch))"
   ]
  },
  {
   "cell_type": "code",
   "execution_count": null,
   "metadata": {},
   "outputs": [],
   "source": []
  },
  {
   "cell_type": "code",
   "execution_count": null,
   "metadata": {},
   "outputs": [],
   "source": []
  }
 ],
 "metadata": {
  "kernelspec": {
   "display_name": "p37_tf",
   "language": "python",
   "name": "p37_tf"
  },
  "language_info": {
   "codemirror_mode": {
    "name": "ipython",
    "version": 3
   },
   "file_extension": ".py",
   "mimetype": "text/x-python",
   "name": "python",
   "nbconvert_exporter": "python",
   "pygments_lexer": "ipython3",
   "version": "3.7.2"
  }
 },
 "nbformat": 4,
 "nbformat_minor": 2
}

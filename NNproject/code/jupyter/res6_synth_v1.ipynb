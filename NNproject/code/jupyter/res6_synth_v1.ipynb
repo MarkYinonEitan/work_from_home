{
 "cells": [
  {
   "cell_type": "markdown",
   "metadata": {},
   "source": [
    "Organize Imports"
   ]
  },
  {
   "cell_type": "code",
   "execution_count": 1,
   "metadata": {},
   "outputs": [],
   "source": [
    "import os\n",
    "import sys\n",
    "import importlib\n",
    "import numpy as np\n",
    "import tensorflow as tf\n",
    "if '__file__' in locals():\n",
    "    dir_path = os.path.dirname(os.path.realpath(__file__))\n",
    "else:\n",
    "    dir_path = os.getcwd()\n",
    "python_path = dir_path + '/../python/'\n",
    "sys.path.append(python_path)\n",
    "\n",
    "\n",
    "import dataset_loader\n",
    "importlib.reload(dataset_loader)\n",
    "from dataset_loader import EM_DATA\n",
    "from dataset_loader import BATCH_SIZE, NBOX_IN,NBOX_OUT,N_CHANNELS\n",
    "import net_3d_1"
   ]
  },
  {
   "cell_type": "markdown",
   "metadata": {},
   "source": [
    "Parameters "
   ]
  },
  {
   "cell_type": "code",
   "execution_count": 2,
   "metadata": {},
   "outputs": [],
   "source": [
    "N_EPOCHS = 30"
   ]
  },
  {
   "cell_type": "markdown",
   "metadata": {},
   "source": [
    "INPUTS: FOLDERS "
   ]
  },
  {
   "cell_type": "code",
   "execution_count": 3,
   "metadata": {},
   "outputs": [],
   "source": [
    "#define folders\n",
    "data_fld = \"/Users/markroza/Documents/work_from_home/NNcourse_project/data/res6/synth/\"\n",
    "out_fld = \"/Users/markroza/Documents/work_from_home/NNcourse_project/data/results/synth_res6/\""
   ]
  },
  {
   "cell_type": "markdown",
   "metadata": {},
   "source": [
    "Create Database"
   ]
  },
  {
   "cell_type": "code",
   "execution_count": 4,
   "metadata": {},
   "outputs": [
    {
     "name": "stdout",
     "output_type": "stream",
     "text": [
      "/Users/markroza/Documents/work_from_home/NNcourse_project/data/res6/synth//F_5vhh_output.npy\n"
     ]
    },
    {
     "ename": "KeyError",
     "evalue": "'OUT'",
     "output_type": "error",
     "traceback": [
      "\u001b[0;31m---------------------------------------------------------------------------\u001b[0m",
      "\u001b[0;31mKeyError\u001b[0m                                  Traceback (most recent call last)",
      "\u001b[0;32m<ipython-input-4-ae894e1f19d8>\u001b[0m in \u001b[0;36m<module>\u001b[0;34m\u001b[0m\n\u001b[1;32m      1\u001b[0m \u001b[0mdata_pairs\u001b[0m \u001b[0;34m=\u001b[0m \u001b[0mdataset_loader\u001b[0m\u001b[0;34m.\u001b[0m\u001b[0mread_list_file\u001b[0m\u001b[0;34m(\u001b[0m\u001b[0mdata_fld\u001b[0m\u001b[0;34m+\u001b[0m\u001b[0;34m'list.txt'\u001b[0m\u001b[0;34m)\u001b[0m\u001b[0;34m\u001b[0m\u001b[0;34m\u001b[0m\u001b[0m\n\u001b[1;32m      2\u001b[0m \u001b[0mall_pdbs\u001b[0m \u001b[0;34m=\u001b[0m \u001b[0;34m[\u001b[0m\u001b[0mx\u001b[0m\u001b[0;34m[\u001b[0m\u001b[0;36m0\u001b[0m\u001b[0;34m]\u001b[0m \u001b[0;32mfor\u001b[0m \u001b[0mx\u001b[0m \u001b[0;32min\u001b[0m  \u001b[0mdata_pairs\u001b[0m\u001b[0;34m]\u001b[0m\u001b[0;34m\u001b[0m\u001b[0;34m\u001b[0m\u001b[0m\n\u001b[0;32m----> 3\u001b[0;31m \u001b[0mem1\u001b[0m \u001b[0;34m=\u001b[0m \u001b[0mEM_DATA\u001b[0m\u001b[0;34m(\u001b[0m\u001b[0mdata_fld\u001b[0m\u001b[0;34m,\u001b[0m\u001b[0mtrain_pdbs\u001b[0m\u001b[0;34m=\u001b[0m\u001b[0mall_pdbs\u001b[0m\u001b[0;34m,\u001b[0m\u001b[0mtest_pdbs\u001b[0m\u001b[0;34m=\u001b[0m\u001b[0;34m[\u001b[0m\u001b[0;34m'5ydz'\u001b[0m\u001b[0;34m]\u001b[0m\u001b[0;34m)\u001b[0m\u001b[0;34m\u001b[0m\u001b[0;34m\u001b[0m\u001b[0m\n\u001b[0m\u001b[1;32m      4\u001b[0m \u001b[0mtrain_data\u001b[0m \u001b[0;34m=\u001b[0m \u001b[0mem1\u001b[0m\u001b[0;34m.\u001b[0m\u001b[0mtrain_dataset\u001b[0m\u001b[0;34m.\u001b[0m\u001b[0mmake_initializable_iterator\u001b[0m\u001b[0;34m(\u001b[0m\u001b[0;34m)\u001b[0m\u001b[0;34m\u001b[0m\u001b[0;34m\u001b[0m\u001b[0m\n\u001b[1;32m      5\u001b[0m \u001b[0mtest_data\u001b[0m \u001b[0;34m=\u001b[0m \u001b[0mem1\u001b[0m\u001b[0;34m.\u001b[0m\u001b[0mtest_dataset\u001b[0m\u001b[0;34m.\u001b[0m\u001b[0mmake_initializable_iterator\u001b[0m\u001b[0;34m(\u001b[0m\u001b[0;34m)\u001b[0m\u001b[0;34m\u001b[0m\u001b[0;34m\u001b[0m\u001b[0m\n",
      "\u001b[0;32m~/Documents/GitHub/work_from_home/NNproject/code/jupyter/../python/dataset_loader.py\u001b[0m in \u001b[0;36m__init__\u001b[0;34m(self, folder_name, train_pdbs, valid_ratio, test_pdbs)\u001b[0m\n\u001b[1;32m     47\u001b[0m                 valid_ratio=0.2, test_pdbs=[] ):\n\u001b[1;32m     48\u001b[0m         \u001b[0;31m#load data\u001b[0m\u001b[0;34m\u001b[0m\u001b[0;34m\u001b[0m\u001b[0;34m\u001b[0m\u001b[0m\n\u001b[0;32m---> 49\u001b[0;31m         \u001b[0mself\u001b[0m\u001b[0;34m.\u001b[0m\u001b[0mmols_train\u001b[0m \u001b[0;34m=\u001b[0m \u001b[0mself\u001b[0m\u001b[0;34m.\u001b[0m\u001b[0mload_pdb_list\u001b[0m\u001b[0;34m(\u001b[0m\u001b[0mfolder_name\u001b[0m\u001b[0;34m,\u001b[0m \u001b[0mtrain_pdbs\u001b[0m\u001b[0;34m)\u001b[0m\u001b[0;34m\u001b[0m\u001b[0;34m\u001b[0m\u001b[0m\n\u001b[0m\u001b[1;32m     50\u001b[0m         \u001b[0mself\u001b[0m\u001b[0;34m.\u001b[0m\u001b[0mmols_test\u001b[0m \u001b[0;34m=\u001b[0m \u001b[0mself\u001b[0m\u001b[0;34m.\u001b[0m\u001b[0mload_pdb_list\u001b[0m\u001b[0;34m(\u001b[0m\u001b[0mfolder_name\u001b[0m\u001b[0;34m,\u001b[0m \u001b[0mtest_pdbs\u001b[0m\u001b[0;34m)\u001b[0m\u001b[0;34m\u001b[0m\u001b[0;34m\u001b[0m\u001b[0m\n\u001b[1;32m     51\u001b[0m \u001b[0;34m\u001b[0m\u001b[0m\n",
      "\u001b[0;32m~/Documents/GitHub/work_from_home/NNproject/code/jupyter/../python/dataset_loader.py\u001b[0m in \u001b[0;36mload_pdb_list\u001b[0;34m(self, folder_name, pdb_list)\u001b[0m\n\u001b[1;32m     80\u001b[0m         \u001b[0;32mfor\u001b[0m \u001b[0mpdb_id\u001b[0m \u001b[0;32min\u001b[0m \u001b[0mpdb_list\u001b[0m\u001b[0;34m:\u001b[0m\u001b[0;34m\u001b[0m\u001b[0;34m\u001b[0m\u001b[0m\n\u001b[1;32m     81\u001b[0m             \u001b[0mpdb_files\u001b[0m \u001b[0;34m=\u001b[0m \u001b[0mget_and_check_file_names\u001b[0m\u001b[0;34m(\u001b[0m\u001b[0mpdb_id\u001b[0m\u001b[0;34m,\u001b[0m\u001b[0mfolder_name\u001b[0m\u001b[0;34m)\u001b[0m\u001b[0;34m\u001b[0m\u001b[0;34m\u001b[0m\u001b[0m\n\u001b[0;32m---> 82\u001b[0;31m             \u001b[0mmol_data\u001b[0m \u001b[0;34m=\u001b[0m \u001b[0mMolData\u001b[0m\u001b[0;34m(\u001b[0m\u001b[0mpdb_files\u001b[0m\u001b[0;34m,\u001b[0m\u001b[0mpdb_id\u001b[0m\u001b[0;34m)\u001b[0m\u001b[0;34m\u001b[0m\u001b[0;34m\u001b[0m\u001b[0m\n\u001b[0m\u001b[1;32m     83\u001b[0m             \u001b[0mmols\u001b[0m\u001b[0;34m[\u001b[0m\u001b[0mpdb_id\u001b[0m\u001b[0;34m]\u001b[0m \u001b[0;34m=\u001b[0m \u001b[0mmol_data\u001b[0m\u001b[0;34m\u001b[0m\u001b[0;34m\u001b[0m\u001b[0m\n\u001b[1;32m     84\u001b[0m         \u001b[0;32mreturn\u001b[0m \u001b[0mmols\u001b[0m\u001b[0;34m\u001b[0m\u001b[0;34m\u001b[0m\u001b[0m\n",
      "\u001b[0;32m~/Documents/GitHub/work_from_home/NNproject/code/jupyter/../python/dataset_loader.py\u001b[0m in \u001b[0;36m__init__\u001b[0;34m(self, f_names, pdb_id)\u001b[0m\n\u001b[1;32m     24\u001b[0m \u001b[0;32mclass\u001b[0m \u001b[0mMolData\u001b[0m\u001b[0;34m(\u001b[0m\u001b[0;34m)\u001b[0m\u001b[0;34m:\u001b[0m\u001b[0;34m\u001b[0m\u001b[0;34m\u001b[0m\u001b[0m\n\u001b[1;32m     25\u001b[0m     \u001b[0;32mdef\u001b[0m \u001b[0m__init__\u001b[0m\u001b[0;34m(\u001b[0m\u001b[0mself\u001b[0m\u001b[0;34m,\u001b[0m\u001b[0mf_names\u001b[0m\u001b[0;34m,\u001b[0m\u001b[0mpdb_id\u001b[0m\u001b[0;34m)\u001b[0m\u001b[0;34m:\u001b[0m\u001b[0;34m\u001b[0m\u001b[0;34m\u001b[0m\u001b[0m\n\u001b[0;32m---> 26\u001b[0;31m         \u001b[0mself\u001b[0m\u001b[0;34m.\u001b[0m\u001b[0mout\u001b[0m \u001b[0;34m=\u001b[0m \u001b[0mnp\u001b[0m\u001b[0;34m.\u001b[0m\u001b[0mload\u001b[0m\u001b[0;34m(\u001b[0m\u001b[0mf_names\u001b[0m\u001b[0;34m[\u001b[0m\u001b[0;34m'OUT'\u001b[0m\u001b[0;34m]\u001b[0m\u001b[0;34m)\u001b[0m\u001b[0;34m\u001b[0m\u001b[0;34m\u001b[0m\u001b[0m\n\u001b[0m\u001b[1;32m     27\u001b[0m         \u001b[0mself\u001b[0m\u001b[0;34m.\u001b[0m\u001b[0mvx\u001b[0m \u001b[0;34m=\u001b[0m \u001b[0;34m{\u001b[0m\u001b[0;34m}\u001b[0m\u001b[0;34m\u001b[0m\u001b[0;34m\u001b[0m\u001b[0m\n\u001b[1;32m     28\u001b[0m         \u001b[0mself\u001b[0m\u001b[0;34m.\u001b[0m\u001b[0mvx\u001b[0m\u001b[0;34m[\u001b[0m\u001b[0;34m'C'\u001b[0m\u001b[0;34m]\u001b[0m \u001b[0;34m=\u001b[0m \u001b[0mnp\u001b[0m\u001b[0;34m.\u001b[0m\u001b[0mload\u001b[0m\u001b[0;34m(\u001b[0m\u001b[0mf_names\u001b[0m\u001b[0;34m[\u001b[0m\u001b[0;34m'C'\u001b[0m\u001b[0;34m]\u001b[0m\u001b[0;34m)\u001b[0m\u001b[0;34m\u001b[0m\u001b[0;34m\u001b[0m\u001b[0m\n",
      "\u001b[0;31mKeyError\u001b[0m: 'OUT'"
     ]
    }
   ],
   "source": [
    "data_pairs = dataset_loader.read_list_file(data_fld+'list.txt')\n",
    "all_pdbs = [x[0] for x in  data_pairs]\n",
    "em1 = EM_DATA(data_fld,train_pdbs=all_pdbs[1:10],test_pdbs=['5ydz'])\n",
    "train_data = em1.train_dataset.make_initializable_iterator()\n",
    "test_data = em1.test_dataset.make_initializable_iterator()\n",
    "trn = train_data.get_next()\n",
    "tst = test_data.get_next()\n",
    "\n",
    "\n"
   ]
  },
  {
   "cell_type": "markdown",
   "metadata": {},
   "source": [
    "Create Network"
   ]
  },
  {
   "cell_type": "code",
   "execution_count": null,
   "metadata": {},
   "outputs": [],
   "source": [
    "x = tf.placeholder(tf.float32, shape=[BATCH_SIZE, NBOX_IN, NBOX_IN, NBOX_IN,N_CHANNELS ])\n",
    "y = tf.placeholder(tf.float32, shape=[BATCH_SIZE, NBOX_OUT, NBOX_OUT, NBOX_OUT,1 ])\n",
    "keep_prob = tf.placeholder(dtype=tf.float32)\n",
    "isTrain = tf.placeholder(dtype=tf.bool)\n",
    "\n",
    "nn = net_3d_1.get_net_graph(x,y,keep_prob,isTrain)"
   ]
  },
  {
   "cell_type": "code",
   "execution_count": null,
   "metadata": {},
   "outputs": [],
   "source": [
    "# open session and initialize all variables\n",
    "config = tf.ConfigProto()\n",
    "config.gpu_options.allow_growth = True\n",
    "\n",
    "with tf.Session(config=config) as sess:\n",
    "    #sess = tf.InteractiveSession()\n",
    "    tf.global_variables_initializer().run()\n",
    "\n",
    "    logger = tf.summary.FileWriter(out_fld+'/graphs', sess.graph)\n",
    "    merged = tf.summary.merge_all()\n",
    "\n",
    "\n",
    "    model_path = out_fld+'/network_test/'\n",
    "    if os.path.isdir(model_path) is False:\n",
    "        os.mkdir(model_path)\n",
    "    saver = tf.train.Saver()\n",
    "    \n",
    "    for epoch_num in range(N_EPOCHS):\n",
    "        sess.run(train_data.initializer)\n",
    "        # training-loop\n",
    "        for batch in range(em1.N_batches):\n",
    "            for _ in range(4):\n",
    "                image_in,image_out = sess.run(trn)\n",
    "                sess.run(nn[\"D_optim\"], feed_dict={x: image_in, y: image_out, keep_prob: 0.8, isTrain: True})\n",
    "                sess.run(nn[\"clip\"])\n",
    "                loss_d_, loss_g_, _VAE_loss, _KL_divergence, _reconstruction_loss, summary,\\\n",
    "                _, _, _ = sess.run([nn[\"D_loss\"], nn[\"G_loss\"], nn[\"VAE_L\"], nn[\"mean_KL\"],\\\n",
    "                nn[\"mean_recon\"], merged, nn[\"D_optim\"], nn[\"G_optim\"], nn[\"E_optim\"]],\\\n",
    "                            feed_dict={x: image_in, y: image_out, keep_prob: 0.8, isTrain: True})\n",
    "                sess.run(nn[\"clip\"])\n",
    "                if batch % 10 == 0:\n",
    "                    print(\"batch:\", batch)\n",
    "                    print(\"D Loss:\", loss_d_)\n",
    "                    print(\"G Loss:\", loss_g_)\n",
    "                    print(\"VAE loss:\", _VAE_loss)\n",
    "                    print(\"KL divergence:\", _KL_divergence)\n",
    "                    print(\"reconstruction_loss:\", _reconstruction_loss)\n",
    "                    print(\"###########\")\n",
    "                    if batch % 500 == 0:\n",
    "                        G = sess.run(nn[\"G_z\"][\"o\"], feed_dict={x: image_in, y: image_out, keep_prob: 0.8, isTrain: False})\n",
    "                        np.save(out_fld + str(batch) + \".npy\", G)\n",
    "                        if batch % 10 == 0:\n",
    "                            saver.save(sess, model_path + str(batch) + \".ckpt\")\n",
    "\n"
   ]
  },
  {
   "cell_type": "code",
   "execution_count": null,
   "metadata": {},
   "outputs": [],
   "source": [
    "a = em1.train_points\n",
    "print(a[0].ijk)\n",
    "print(a[1].ijk)\n",
    "print(a[2].ijk)"
   ]
  },
  {
   "cell_type": "code",
   "execution_count": null,
   "metadata": {},
   "outputs": [],
   "source": [
    "b = np.random.permutation(a)\n",
    "print(b[0].ijk)\n",
    "print(b[1].ijk)\n",
    "print(b[2].ijk)"
   ]
  },
  {
   "cell_type": "code",
   "execution_count": null,
   "metadata": {},
   "outputs": [],
   "source": []
  }
 ],
 "metadata": {
  "kernelspec": {
   "display_name": "p37_tf",
   "language": "python",
   "name": "p37_tf"
  },
  "language_info": {
   "codemirror_mode": {
    "name": "ipython",
    "version": 3
   },
   "file_extension": ".py",
   "mimetype": "text/x-python",
   "name": "python",
   "nbconvert_exporter": "python",
   "pygments_lexer": "ipython3",
   "version": "3.7.2"
  }
 },
 "nbformat": 4,
 "nbformat_minor": 2
}
